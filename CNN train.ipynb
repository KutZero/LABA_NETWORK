{
 "cells": [
  {
   "cell_type": "markdown",
   "id": "39d71888-cf1b-403f-93ac-0b5e6720ebfd",
   "metadata": {},
   "source": [
    "# Импорт библиотек"
   ]
  },
  {
   "cell_type": "code",
   "execution_count": null,
   "id": "e571bf5b-140c-45ca-8341-3c01ab93ebc0",
   "metadata": {},
   "outputs": [],
   "source": [
    "import numpy as np\n",
    "import pandas as pd\n",
    "import os\n",
    "import PIL\n",
    "import pathlib\n",
    "import tensorflow as tf\n",
    "import matplotlib \n",
    "from matplotlib.image import imread\n",
    "import matplotlib.pyplot as plt\n",
    "from tensorflow import keras\n",
    "from keras import layers\n",
    "from IPython.display import display\n",
    "#tf.compat.v1.set_random_seed(290)\n",
    "# детерминирование случайных величин\n",
    "tf.random.set_seed(290)\n",
    "np.random.seed(290)"
   ]
  },
  {
   "cell_type": "markdown",
   "id": "c7fdc904-4223-481b-af02-d8f845a0fd96",
   "metadata": {},
   "source": [
    "### Скачивание датасета"
   ]
  },
  {
   "cell_type": "code",
   "execution_count": null,
   "id": "e9988658-fd60-49f1-902a-c99432091ce9",
   "metadata": {},
   "outputs": [],
   "source": [
    "# пример того, как можно скачать датасет (он уже скачан)\n",
    "'''dataset_url = \"https://storage.googleapis.com/download.tensorflow.org/example_images/flower_photos.tgz\"\n",
    "archive = tf.keras.utils.get_file(origin=dataset_url, extract=True, cache_dir=os.getcwd())\n",
    "data_dir = pathlib.Path(archive).with_suffix('')''';"
   ]
  },
  {
   "cell_type": "markdown",
   "id": "75a21d37-e44e-4e9c-ab59-aeb564bef212",
   "metadata": {},
   "source": [
    "### Разметка данных (изначально в датасете нет размытых изображений)"
   ]
  },
  {
   "cell_type": "code",
   "execution_count": null,
   "id": "4ba728c3-118b-40fd-8dbe-84763191ab11",
   "metadata": {},
   "outputs": [],
   "source": [
    "TRAIN_PERCENT = 0.60 \n",
    "VAL_PERCENT = 0.20\n",
    "TEST_PERCENT = 0.20\n",
    "\n",
    "# folder with random photo without blur or labeling\n",
    "PATH_TO_UNPREPARED_DATASET = 'flower_photos'\n",
    "# forler where will be stored labeled data\n",
    "PATH_TO_SAVE_DATASET = 'dataset'\n",
    "\n",
    "dataset = {'train':{'blur': [], 'sharp': []},\n",
    "           'val':{'blur': [], 'sharp': []},\n",
    "           'test':{'blur': [], 'sharp': []}}"
   ]
  },
  {
   "cell_type": "code",
   "execution_count": null,
   "id": "b314201a-b1c5-4ce9-aa1c-1950bbdaa3fe",
   "metadata": {
    "scrolled": true
   },
   "outputs": [],
   "source": [
    "# sort all photos to train,val and test datasets (and to sharp and blur ones)\n",
    "for tup in os.walk(PATH_TO_UNPREPARED_DATASET):\n",
    "    # tup - это кортеж 3 элементов\n",
    "    # tup[0] - относительный путь до обрабатываемой папки\n",
    "    # tup[1] - список всех папок в ней\n",
    "    # tup[2] - список всех файлов в ней\n",
    "\n",
    "    # если в папке есть изображения типа jpg\n",
    "    if [filename for filename in tup[2] if filename.endswith('.jpg')]:\n",
    "        print(tup[0], tup[1], len(tup[2]), 'items in current path')\n",
    "        # make every relative path absolute and cast to numpy ndarray\n",
    "        temp_arr = np.array([f'{tup[0]}/{path}' for path in tup[2]])\n",
    "        # split ndarray of absolute paths to images to 3 parts by percentage\n",
    "        temp_train, temp_validate, temp_test = np.split(temp_arr, \n",
    "                                                        [int(temp_arr.shape[0]*TRAIN_PERCENT), \n",
    "                                                         int(temp_arr.shape[0]*(TRAIN_PERCENT+VAL_PERCENT))])\n",
    "        # add ndarray to list of each dataset part\n",
    "        # like dataset['train'] = list(np.ndarray(1,2,3), np.ndarray(4,5,6))\n",
    "        dataset['train']['blur'].append(temp_train[:temp_train.shape[0]//2])\n",
    "        dataset['train']['sharp'].append(temp_train[temp_train.shape[0]//2:])\n",
    "        \n",
    "        dataset['val']['blur'].append(temp_validate[:temp_validate.shape[0]//2])\n",
    "        dataset['val']['sharp'].append(temp_validate[temp_validate.shape[0]//2:])\n",
    "        \n",
    "        dataset['test']['blur'].append(temp_validate[:temp_test.shape[0]//2])\n",
    "        dataset['test']['sharp'].append(temp_validate[temp_test.shape[0]//2:])\n",
    "\n",
    "# concatenate each numpy ndarray in each dataset part to one ndarray\n",
    "for key, value in dataset.items():\n",
    "    for key2,value2 in value.items():\n",
    "        dataset[key][key2] = np.concatenate(value2)"
   ]
  },
  {
   "cell_type": "code",
   "execution_count": null,
   "id": "61400479-79d1-4cb5-93dc-da5357380abb",
   "metadata": {
    "scrolled": true
   },
   "outputs": [],
   "source": [
    "# print dataset info\n",
    "for key, value in dataset.items():\n",
    "    print('|'*8,f'{key} part','|'*8)\n",
    "    for key2, value2 in value.items():\n",
    "        print('\\t','|'*8,f'{key2} part','|'*8)\n",
    "        print('\\t',f'Total items: {value2.shape[0]}')\n",
    "        print('\\t',f'Example (first 3 items):',*value2[:3],sep='\\n')\n",
    "    print()"
   ]
  },
  {
   "cell_type": "markdown",
   "id": "7f870259-c25a-4f67-ab46-30862fb0e552",
   "metadata": {},
   "source": [
    "### Обработка размеченных данных (применение размытия) и помощение в новую папку"
   ]
  },
  {
   "cell_type": "code",
   "execution_count": null,
   "id": "8d15f5f4-c8ad-4994-8025-1dce73bd7929",
   "metadata": {},
   "outputs": [],
   "source": [
    "from PIL import Image, ImageFilter\n",
    "# blur labeled images and put all images in new folders\n",
    "for key, value in dataset.items():\n",
    "    for key2, value2 in value.items():\n",
    "        # create path to save new photo\n",
    "        path_to_save_image =  f'{PATH_TO_SAVE_DATASET}/{key}/{key2}'\n",
    "        if not os.path.exists(path_to_save_image):\n",
    "            os.makedirs(path_to_save_image)\n",
    "            \n",
    "        if key2 == 'blur':\n",
    "            for image_path in value2:\n",
    "                box_image = Image.open(image_path).filter(ImageFilter.BoxBlur(5))\n",
    "                box_image.save(f'{path_to_save_image}/{image_path.split(\"/\")[-1]}')\n",
    "        if key2 == 'sharp':\n",
    "            for image_path in value2:\n",
    "                box_image = Image.open(image_path)\n",
    "                box_image.save(f'{path_to_save_image}/{image_path.split(\"/\")[-1]}')"
   ]
  },
  {
   "cell_type": "markdown",
   "id": "d819b3be-70b5-40cb-91c1-481e85794254",
   "metadata": {},
   "source": [
    "### Чтение путей обработанных изображение в датафрейм"
   ]
  },
  {
   "cell_type": "code",
   "execution_count": null,
   "id": "f43b156f-5557-4cda-b289-2771431d3e3d",
   "metadata": {
    "scrolled": true
   },
   "outputs": [],
   "source": [
    "dataset_df = pd.DataFrame(data=list(pathlib.Path(PATH_TO_SAVE_DATASET).rglob('*.jpg')), columns=['path'])\n",
    "dataset_df['dataset'] = dataset_df['path'].map(lambda x: str(x).split('/')[-3])\n",
    "dataset_df['blur'] = dataset_df['path'].map(lambda x: 1 if str(x).split('/')[-2]=='blur' else 0)\n",
    "display(dataset_df)"
   ]
  },
  {
   "cell_type": "code",
   "execution_count": null,
   "id": "01c98c66-e0f4-4429-b74f-8efdf1c9e223",
   "metadata": {},
   "outputs": [],
   "source": [
    "# display only test dataset\n",
    "display(dataset_df[dataset_df['dataset']=='test'])"
   ]
  },
  {
   "cell_type": "markdown",
   "id": "c77fa955-fb21-487b-adfb-4c69b15652a9",
   "metadata": {},
   "source": [
    "# Создание модели"
   ]
  },
  {
   "cell_type": "code",
   "execution_count": null,
   "id": "d1daff3c-4935-44fb-81ba-3f0fc85aed1a",
   "metadata": {},
   "outputs": [],
   "source": [
    "# network model learning params\n",
    "BATCH_SIZE = 32\n",
    "IMAGE_HEIGHT = 256\n",
    "IMAGE_WIDTH = 256\n",
    "\n",
    "LEARNING_RATE = 0.001\n",
    "\n",
    "LOSS_FUNCTION = keras.losses.BinaryCrossentropy()\n",
    "\n",
    "OPTIMIZER = keras.optimizers.SGD(LEARNING_RATE)\n",
    "\n",
    "METRICS = [keras.metrics.BinaryCrossentropy(), \n",
    "           keras.metrics.MeanSquaredError(),\n",
    "           keras.metrics.Precision(name='Precision'),\n",
    "           keras.metrics.Recall(name='Recall'),\n",
    "           keras.metrics.AUC(name='PR_AUC', curve='PR'),\n",
    "           keras.metrics.AUC(name='ROC_AUC', curve='ROC')]"
   ]
  },
  {
   "cell_type": "markdown",
   "id": "f949dd07-bb78-4083-88da-7c0003a5a50c",
   "metadata": {},
   "source": [
    "### Блок предобработка изображений"
   ]
  },
  {
   "cell_type": "code",
   "execution_count": null,
   "id": "70719e3d-cb20-4d71-b196-954540d69bac",
   "metadata": {},
   "outputs": [],
   "source": [
    "resize_and_rescale = tf.keras.Sequential([\n",
    "  layers.Resizing(IMAGE_HEIGHT, IMAGE_WIDTH),\n",
    "  layers.Rescaling(1./255)\n",
    "])"
   ]
  },
  {
   "cell_type": "markdown",
   "id": "71c1157f-a379-47fc-a002-a99c12250183",
   "metadata": {},
   "source": [
    "### Блок аугментации изображений"
   ]
  },
  {
   "cell_type": "code",
   "execution_count": null,
   "id": "854ab164-0d7d-41d6-a7b8-5f4c55291800",
   "metadata": {},
   "outputs": [],
   "source": [
    "augment_data = tf.keras.Sequential([\n",
    "  layers.RandomFlip(\"horizontal_and_vertical\"),\n",
    "  layers.RandomRotation(1, fill_mode='reflect'),\n",
    "  #layers.RandomTranslation(0.2,0.2, fill_mode=\"reflect\"),\n",
    "  #layers.RandomZoom(0.3,0.3, fill_mode=\"reflect\")\n",
    "])"
   ]
  },
  {
   "cell_type": "markdown",
   "id": "f59380ee-e257-4ecd-bd8f-bbd878fd9396",
   "metadata": {},
   "source": [
    "### Архитектура модели"
   ]
  },
  {
   "cell_type": "code",
   "execution_count": null,
   "id": "64d05e91-d136-405f-968b-eeadb76b4ee2",
   "metadata": {},
   "outputs": [],
   "source": [
    "model = keras.Sequential()\n",
    "model.add(layers.Conv2D(32, (3,3), 1, activation='relu', input_shape=(256,256,3)))\n",
    "model.add(layers.MaxPooling2D())\n",
    "model.add(layers.Conv2D(32, (3,3), 1, activation='relu'))\n",
    "model.add(layers.MaxPooling2D())\n",
    "model.add(layers.Conv2D(32, (3,3), 1, activation='relu'))\n",
    "model.add(layers.MaxPooling2D())\n",
    "model.add(layers.Conv2D(16, (3,3), 1, activation='relu'))\n",
    "model.add(layers.MaxPooling2D())\n",
    "model.add(layers.Flatten())\n",
    "model.add(layers.Dense(64, activation='selu'))\n",
    "model.add(layers.Dropout(0.5))\n",
    "model.add(layers.Dense(32, activation='selu'))\n",
    "model.add(layers.Dropout(0.5))\n",
    "model.add(layers.Dense(1, activation='sigmoid'))\n",
    "\n",
    "#model.compile(optimizer=OPTIMIZER, loss=LOSS_FUNCTION, metrics=METRICS)\n",
    "\n",
    "# model summary\n",
    "print(model.summary())"
   ]
  },
  {
   "cell_type": "markdown",
   "id": "05104a2f-a75d-43de-9964-8db6e4eb7c8e",
   "metadata": {},
   "source": [
    "### Пример сырого изображения, предобработанного и аугментированного"
   ]
  },
  {
   "cell_type": "code",
   "execution_count": null,
   "id": "52b91f49-846b-42d9-92dd-4bff970d7fff",
   "metadata": {},
   "outputs": [],
   "source": [
    "FONT_SIZE = 15\n",
    "fig, axes = plt.subplots(1,3)\n",
    "\n",
    "fig.set_figwidth(22)\n",
    "fig.set_figheight(8)\n",
    "\n",
    "# read image\n",
    "path = dataset_df['path'].iloc[0]\n",
    "img = np.expand_dims(imread(path), axis=0)\n",
    "axes[0].imshow(img[0])\n",
    "axes[0].set_title(f\"Raw image\", fontsize=FONT_SIZE, pad=15)\n",
    "\n",
    "# preprocess image\n",
    "img = resize_and_rescale(img)\n",
    "axes[1].imshow(img[0])\n",
    "axes[1].set_title(f\"Preprocessed image\", fontsize=FONT_SIZE, pad=15)\n",
    "\n",
    "# augmentate image\n",
    "img = augment_data(img)\n",
    "axes[2].imshow(img)\n",
    "axes[2].set_title(f\"Augmented and preprocessed image image\", fontsize=FONT_SIZE, pad=15)\n",
    "\n",
    "plt.show()"
   ]
  },
  {
   "cell_type": "code",
   "execution_count": null,
   "id": "2ce5bab9-3005-42a3-887d-0acc27b471c5",
   "metadata": {},
   "outputs": [],
   "source": []
  }
 ],
 "metadata": {
  "kernelspec": {
   "display_name": "Python 3 (ipykernel)",
   "language": "python",
   "name": "python3"
  },
  "language_info": {
   "codemirror_mode": {
    "name": "ipython",
    "version": 3
   },
   "file_extension": ".py",
   "mimetype": "text/x-python",
   "name": "python",
   "nbconvert_exporter": "python",
   "pygments_lexer": "ipython3",
   "version": "3.11.8"
  }
 },
 "nbformat": 4,
 "nbformat_minor": 5
}
