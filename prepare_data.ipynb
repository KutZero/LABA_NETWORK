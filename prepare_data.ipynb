{
 "cells": [
  {
   "cell_type": "markdown",
   "id": "39d71888-cf1b-403f-93ac-0b5e6720ebfd",
   "metadata": {},
   "source": [
    "# Импорт библиотек"
   ]
  },
  {
   "cell_type": "code",
   "execution_count": 1,
   "id": "e571bf5b-140c-45ca-8341-3c01ab93ebc0",
   "metadata": {
    "execution": {
     "iopub.execute_input": "2025-09-22T07:05:39.038195Z",
     "iopub.status.busy": "2025-09-22T07:05:39.037196Z",
     "iopub.status.idle": "2025-09-22T07:05:42.344591Z",
     "shell.execute_reply": "2025-09-22T07:05:42.344591Z",
     "shell.execute_reply.started": "2025-09-22T07:05:39.038195Z"
    }
   },
   "outputs": [],
   "source": [
    "import numpy as np\n",
    "import os\n",
    "import PIL\n",
    "import pathlib\n",
    "import tensorflow as tf\n",
    "from tensorflow import keras\n",
    "from PIL import Image, ImageFilter\n",
    "from tqdm import tqdm\n",
    "\n",
    "#tf.compat.v1.set_random_seed(290)\n",
    "# детерминирование случайных величин\n",
    "tf.random.set_seed(290)\n",
    "np.random.seed(290)"
   ]
  },
  {
   "cell_type": "markdown",
   "id": "c7fdc904-4223-481b-af02-d8f845a0fd96",
   "metadata": {},
   "source": [
    "### Загрузка датасета"
   ]
  },
  {
   "cell_type": "code",
   "execution_count": 2,
   "id": "e9988658-fd60-49f1-902a-c99432091ce9",
   "metadata": {
    "execution": {
     "iopub.execute_input": "2025-09-22T07:05:42.345594Z",
     "iopub.status.busy": "2025-09-22T07:05:42.345594Z",
     "iopub.status.idle": "2025-09-22T07:06:10.382869Z",
     "shell.execute_reply": "2025-09-22T07:06:10.382869Z",
     "shell.execute_reply.started": "2025-09-22T07:05:42.345594Z"
    }
   },
   "outputs": [
    {
     "name": "stdout",
     "output_type": "stream",
     "text": [
      "Downloading data from https://storage.googleapis.com/download.tensorflow.org/example_images/flower_photos.tgz\n",
      "\u001b[1m228813984/228813984\u001b[0m \u001b[32m━━━━━━━━━━━━━━━━━━━━\u001b[0m\u001b[37m\u001b[0m \u001b[1m24s\u001b[0m 0us/step\n"
     ]
    }
   ],
   "source": [
    "# скачать датасет\n",
    "# закомменть после того как скачаешь\n",
    "dataset_url = \"https://storage.googleapis.com/download.tensorflow.org/example_images/flower_photos.tgz\"\n",
    "archive = tf.keras.utils.get_file(origin=dataset_url, extract=True, cache_dir=os.getcwd())\n",
    "data_dir = pathlib.Path(archive).with_suffix('')"
   ]
  },
  {
   "cell_type": "markdown",
   "id": "75a21d37-e44e-4e9c-ab59-aeb564bef212",
   "metadata": {},
   "source": [
    "### Разметка данных (изначально в датасете нет размытых изображений)"
   ]
  },
  {
   "cell_type": "code",
   "execution_count": 3,
   "id": "4ba728c3-118b-40fd-8dbe-84763191ab11",
   "metadata": {
    "execution": {
     "iopub.execute_input": "2025-09-22T07:06:10.384377Z",
     "iopub.status.busy": "2025-09-22T07:06:10.384377Z",
     "iopub.status.idle": "2025-09-22T07:06:10.389218Z",
     "shell.execute_reply": "2025-09-22T07:06:10.388704Z",
     "shell.execute_reply.started": "2025-09-22T07:06:10.384377Z"
    }
   },
   "outputs": [],
   "source": [
    "# тоотношения тренировочной, валидационной и тестовой выборки\n",
    "TRAIN_PERCENT = 0.60 \n",
    "VAL_PERCENT = 0.20\n",
    "TEST_PERCENT = 1 - TRAIN_PERCENT - VAL_PERCENT\n",
    "\n",
    "if (TRAIN_PERCENT + VAL_PERCENT + TEST_PERCENT) != 1.:\n",
    "    raise ValueError('Сумма процентов должна быть равна 1')\n",
    "\n",
    "# размеры входного изображения для нейросети \n",
    "# к которому будут преобразованы все фото\n",
    "IMAGE_WIDTH = 256\n",
    "IMAGE_HEIGHT = 256\n",
    "\n",
    "# папка в которую загрузится датасет flower_photos от tensorflow.org\n",
    "PATH_TO_UNPREPARED_DATASET = 'datasets/flower_photos.tgz/flower_photos'\n",
    "# папка в которой будет храниться готовый датасет после предобработки\n",
    "PATH_TO_SAVE_DATASET = 'labeled_dataset'\n",
    "\n",
    "# словарь содержащий пути к фото для разных выборок\n",
    "dataset = {'train':[],\n",
    "           'val':[],\n",
    "           'test':[]}"
   ]
  },
  {
   "cell_type": "code",
   "execution_count": 4,
   "id": "b314201a-b1c5-4ce9-aa1c-1950bbdaa3fe",
   "metadata": {
    "execution": {
     "iopub.execute_input": "2025-09-22T07:06:10.390728Z",
     "iopub.status.busy": "2025-09-22T07:06:10.390224Z",
     "iopub.status.idle": "2025-09-22T07:06:10.427593Z",
     "shell.execute_reply": "2025-09-22T07:06:10.427593Z",
     "shell.execute_reply.started": "2025-09-22T07:06:10.390728Z"
    },
    "scrolled": true
   },
   "outputs": [
    {
     "name": "stdout",
     "output_type": "stream",
     "text": [
      "datasets/flower_photos.tgz/flower_photos\\daisy [] 633 items in current path\n",
      "datasets/flower_photos.tgz/flower_photos\\dandelion [] 898 items in current path\n",
      "datasets/flower_photos.tgz/flower_photos\\roses [] 641 items in current path\n",
      "datasets/flower_photos.tgz/flower_photos\\sunflowers [] 699 items in current path\n",
      "datasets/flower_photos.tgz/flower_photos\\tulips [] 799 items in current path\n"
     ]
    }
   ],
   "source": [
    "# распределяет все фото по тренировочному, валидационному и тестовому датасету\n",
    "# нужно чтобы представители каждого класса из скачанного датасета присутствовали в \n",
    "# каждой выборке\n",
    "for tup in os.walk(PATH_TO_UNPREPARED_DATASET):\n",
    "    # tup - это кортеж 3 элементов\n",
    "    # tup[0] - относительный путь до обрабатываемой папки\n",
    "    # tup[1] - список всех папок в ней\n",
    "    # tup[2] - список всех файлов в ней\n",
    "\n",
    "    # если в папке есть изображения типа jpg\n",
    "    if [filename for filename in tup[2] if filename.endswith('.jpg')]:\n",
    "        print(f'Путь к фоторафиям: {tup[0]}. Кол-во фото в папке: {len(tup[2])}')\n",
    "        # получить относительный путь ко всем фото в папке\n",
    "        temp_arr = np.array([pathlib.Path(tup[0])/filename for filename in tup[2]])\n",
    "        # разделить список путей к фото на 3 части для каждой выборки\n",
    "        temp_train, temp_validate, temp_test = np.split(temp_arr, \n",
    "                                                        [int(temp_arr.shape[0]*TRAIN_PERCENT), \n",
    "                                                         int(temp_arr.shape[0]*(TRAIN_PERCENT+VAL_PERCENT))])\n",
    "        # add ndarray to list of each dataset part\n",
    "        # like dataset['train'] = list(np.ndarray(1,2,3), np.ndarray(4,5,6))\n",
    "        dataset['train'].append(temp_train)\n",
    "        dataset['val'].append(temp_validate)\n",
    "        dataset['test'].append(temp_test)\n",
    "\n",
    "# concatenate each numpy ndarray in each dataset part to one ndarray\n",
    "for key, value in dataset.items():\n",
    "    dataset[key] = np.concatenate(value)"
   ]
  },
  {
   "cell_type": "code",
   "execution_count": 5,
   "id": "61400479-79d1-4cb5-93dc-da5357380abb",
   "metadata": {
    "execution": {
     "iopub.execute_input": "2025-09-22T07:06:10.429596Z",
     "iopub.status.busy": "2025-09-22T07:06:10.428596Z",
     "iopub.status.idle": "2025-09-22T07:06:10.434607Z",
     "shell.execute_reply": "2025-09-22T07:06:10.434103Z",
     "shell.execute_reply.started": "2025-09-22T07:06:10.429596Z"
    },
    "scrolled": true
   },
   "outputs": [
    {
     "name": "stdout",
     "output_type": "stream",
     "text": [
      "|||||||| train part ||||||||\n",
      "\tTotal items: 2199\n",
      "\tExample (first 2 items):\n",
      "\tdatasets\\flower_photos.tgz\\flower_photos\\daisy\\100080576_f52e8ee070_n.jpg\n",
      "\tdatasets\\flower_photos.tgz\\flower_photos\\daisy\\10140303196_b88d3d6cec.jpg\n",
      "\n",
      "|||||||| val part ||||||||\n",
      "\tTotal items: 735\n",
      "\tExample (first 2 items):\n",
      "\tdatasets\\flower_photos.tgz\\flower_photos\\daisy\\4496202781_1d8e776ff5_n.jpg\n",
      "\tdatasets\\flower_photos.tgz\\flower_photos\\daisy\\450128527_fd35742d44.jpg\n",
      "\n",
      "|||||||| test part ||||||||\n",
      "\tTotal items: 736\n",
      "\tExample (first 2 items):\n",
      "\tdatasets\\flower_photos.tgz\\flower_photos\\daisy\\5948835387_5a98d39eff_m.jpg\n",
      "\tdatasets\\flower_photos.tgz\\flower_photos\\daisy\\5973488341_50bdf6cee3_n.jpg\n",
      "\n"
     ]
    }
   ],
   "source": [
    "# print dataset info\n",
    "for key, value in dataset.items():\n",
    "    print('|'*8,f'{key} выборка','|'*8)\n",
    "    print(f'\\tКол-во наблюдений: {value.shape[0]}')\n",
    "    print(f'\\Пример путей к фото (первые два):',*value[:2],sep='\\n\\t')\n",
    "    print()"
   ]
  },
  {
   "cell_type": "markdown",
   "id": "7f870259-c25a-4f67-ab46-30862fb0e552",
   "metadata": {},
   "source": [
    "### Обработка размеченных данных (применение размытия) и помощение в новую папку"
   ]
  },
  {
   "cell_type": "code",
   "execution_count": 14,
   "id": "8d15f5f4-c8ad-4994-8025-1dce73bd7929",
   "metadata": {
    "execution": {
     "iopub.execute_input": "2025-09-22T07:14:46.411793Z",
     "iopub.status.busy": "2025-09-22T07:14:46.410794Z",
     "iopub.status.idle": "2025-09-22T07:15:15.504208Z",
     "shell.execute_reply": "2025-09-22T07:15:15.504208Z",
     "shell.execute_reply.started": "2025-09-22T07:14:46.411793Z"
    },
    "scrolled": true
   },
   "outputs": [
    {
     "name": "stderr",
     "output_type": "stream",
     "text": [
      "Prepare train dataset part: 100%|█████████████████████████████████████████████████| 2199/2199 [00:17<00:00, 127.20it/s]\n",
      "Prepare val dataset part: 100%|█████████████████████████████████████████████████████| 735/735 [00:05<00:00, 126.31it/s]\n",
      "Prepare test dataset part: 100%|████████████████████████████████████████████████████| 736/736 [00:05<00:00, 123.33it/s]\n"
     ]
    }
   ],
   "source": [
    "# blur labeled images and put all images in new folders\n",
    "for key, value in dataset.items():\n",
    "    # create path to save new photo\n",
    "    path_to_save_blur =  pathlib.Path(PATH_TO_SAVE_DATASET)/key/'blur'\n",
    "    if not os.path.exists(path_to_save_blur):\n",
    "        os.makedirs(path_to_save_blur)\n",
    "        \n",
    "    path_to_save_sharp =  pathlib.Path(PATH_TO_SAVE_DATASET)/key/'sharp'\n",
    "    if not os.path.exists(path_to_save_sharp):\n",
    "        os.makedirs(path_to_save_sharp)\n",
    "\n",
    "    for image_path in tqdm(value, desc=f'Подготовка данных для {key} выборки'):\n",
    "        filename = image_path.name\n",
    "        \n",
    "        img = keras.utils.load_img(image_path)\n",
    "        img = keras.utils.img_to_array(img)\n",
    "        img = keras.layers.Resizing(IMAGE_HEIGHT, IMAGE_WIDTH)(img)\n",
    "        img = keras.utils.array_to_img(img)\n",
    "        img.save(path_to_save_sharp / filename)\n",
    "\n",
    "        filename = \"blur_\"+filename\n",
    "        \n",
    "        img = img.filter(ImageFilter.BLUR)\n",
    "        img.save(path_to_save_blur / filename)\n",
    "        \n",
    "print('Подготовка завершена')"
   ]
  }
 ],
 "metadata": {
  "kernelspec": {
   "display_name": "Python 3 (ipykernel)",
   "language": "python",
   "name": "python3"
  },
  "language_info": {
   "codemirror_mode": {
    "name": "ipython",
    "version": 3
   },
   "file_extension": ".py",
   "mimetype": "text/x-python",
   "name": "python",
   "nbconvert_exporter": "python",
   "pygments_lexer": "ipython3",
   "version": "3.12.9"
  }
 },
 "nbformat": 4,
 "nbformat_minor": 5
}
